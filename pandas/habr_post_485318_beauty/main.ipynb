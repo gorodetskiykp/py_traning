{
 "cells": [
  {
   "cell_type": "code",
   "execution_count": 2,
   "metadata": {
    "pycharm": {
     "name": "#%%\n"
    }
   },
   "outputs": [
    {
     "data": {
      "text/plain": [
       "[['Москва', 2561, 12615882],\n",
       " ['Санкт-Петербург', 1439, 5383890],\n",
       " ['Ярославль', 205, 609828],\n",
       " ['Хабаровск', 383, 1321473]]"
      ]
     },
     "execution_count": 2,
     "metadata": {},
     "output_type": "execute_result"
    }
   ],
   "source": [
    "tabledata = [[\"Москва\", 2561, 12615882],\n",
    "         [\"Санкт-Петербург\", 1439, 5383890],\n",
    "         [\"Ярославль\", 205, 609828],\n",
    "         [\"Хабаровск\", 383, 1321473]]\n",
    "tabledata"
   ]
  },
  {
   "cell_type": "code",
   "execution_count": 3,
   "metadata": {
    "pycharm": {
     "name": "#%%\n"
    }
   },
   "outputs": [
    {
     "data": {
      "text/html": [
       "<div>\n",
       "<style scoped>\n",
       "    .dataframe tbody tr th:only-of-type {\n",
       "        vertical-align: middle;\n",
       "    }\n",
       "\n",
       "    .dataframe tbody tr th {\n",
       "        vertical-align: top;\n",
       "    }\n",
       "\n",
       "    .dataframe thead th {\n",
       "        text-align: right;\n",
       "    }\n",
       "</style>\n",
       "<table border=\"1\" class=\"dataframe\">\n",
       "  <thead>\n",
       "    <tr style=\"text-align: right;\">\n",
       "      <th></th>\n",
       "      <th>Город</th>\n",
       "      <th>Площадь (кв. км)</th>\n",
       "      <th>Население (человек)</th>\n",
       "    </tr>\n",
       "  </thead>\n",
       "  <tbody>\n",
       "    <tr>\n",
       "      <th>0</th>\n",
       "      <td>Москва</td>\n",
       "      <td>2561</td>\n",
       "      <td>12615882</td>\n",
       "    </tr>\n",
       "    <tr>\n",
       "      <th>1</th>\n",
       "      <td>Санкт-Петербург</td>\n",
       "      <td>1439</td>\n",
       "      <td>5383890</td>\n",
       "    </tr>\n",
       "    <tr>\n",
       "      <th>2</th>\n",
       "      <td>Ярославль</td>\n",
       "      <td>205</td>\n",
       "      <td>609828</td>\n",
       "    </tr>\n",
       "    <tr>\n",
       "      <th>3</th>\n",
       "      <td>Хабаровск</td>\n",
       "      <td>383</td>\n",
       "      <td>1321473</td>\n",
       "    </tr>\n",
       "  </tbody>\n",
       "</table>\n",
       "</div>"
      ],
      "text/plain": [
       "             Город  Площадь (кв. км)  Население (человек)\n",
       "0           Москва              2561             12615882\n",
       "1  Санкт-Петербург              1439              5383890\n",
       "2        Ярославль               205               609828\n",
       "3        Хабаровск               383              1321473"
      ]
     },
     "execution_count": 3,
     "metadata": {},
     "output_type": "execute_result"
    }
   ],
   "source": [
    "import pandas as pd\n",
    "pd.DataFrame(tabledata, columns=[\"Город\",\"Площадь (кв. км)\", \"Население (человек)\"])"
   ]
  },
  {
   "cell_type": "code",
   "execution_count": 4,
   "metadata": {
    "pycharm": {
     "name": "#%%\n"
    }
   },
   "outputs": [
    {
     "data": {
      "text/html": [
       "<table>\n",
       "<tbody>\n",
       "<tr><td>Москва         </td><td style=\"text-align: right;\">2561</td><td style=\"text-align: right;\">12615882</td></tr>\n",
       "<tr><td>Санкт-Петербург</td><td style=\"text-align: right;\">1439</td><td style=\"text-align: right;\"> 5383890</td></tr>\n",
       "<tr><td>Ярославль      </td><td style=\"text-align: right;\"> 205</td><td style=\"text-align: right;\">  609828</td></tr>\n",
       "<tr><td>Хабаровск      </td><td style=\"text-align: right;\"> 383</td><td style=\"text-align: right;\"> 1321473</td></tr>\n",
       "</tbody>\n",
       "</table>"
      ],
      "text/plain": [
       "<IPython.core.display.HTML object>"
      ]
     },
     "metadata": {},
     "output_type": "display_data"
    }
   ],
   "source": [
    "from IPython.display import HTML, display\n",
    "from tabulate import tabulate\n",
    "display(HTML(tabulate(tabledata, tablefmt='html')))"
   ]
  },
  {
   "cell_type": "code",
   "execution_count": 5,
   "metadata": {
    "pycharm": {
     "name": "#%%\n"
    }
   },
   "outputs": [
    {
     "name": "stdout",
     "output_type": "stream",
     "text": [
      "---------------  ----  --------\n",
      "Москва           2561  12615882\n",
      "Санкт-Петербург  1439   5383890\n",
      "Ярославль         205    609828\n",
      "Хабаровск         383   1321473\n",
      "---------------  ----  --------\n"
     ]
    }
   ],
   "source": [
    "print(tabulate(tabledata))"
   ]
  },
  {
   "cell_type": "code",
   "execution_count": 6,
   "metadata": {
    "pycharm": {
     "name": "#%%\n"
    }
   },
   "outputs": [
    {
     "name": "stdout",
     "output_type": "stream",
     "text": [
      "Город              Площадь (кв. км)    Население (человек)\n",
      "---------------  ------------------  ---------------------\n",
      "Москва                         2561               12615882\n",
      "Санкт-Петербург                1439                5383890\n",
      "Ярославль                       205                 609828\n",
      "Хабаровск                       383                1321473\n"
     ]
    }
   ],
   "source": [
    "print(tabulate(tabledata, headers=[\"Город\",\"Площадь (кв. км)\", \"Население (человек)\"]))"
   ]
  },
  {
   "cell_type": "code",
   "execution_count": 7,
   "metadata": {
    "pycharm": {
     "name": "#%%\n"
    }
   },
   "outputs": [
    {
     "data": {
      "text/html": [
       "<table>\n",
       "<thead>\n",
       "<tr><th style=\"text-align: right;\">  </th><th>Город          </th><th style=\"text-align: right;\">  Площадь (кв. км)</th><th style=\"text-align: right;\">  Население (человек)</th></tr>\n",
       "</thead>\n",
       "<tbody>\n",
       "<tr><td style=\"text-align: right;\"> 0</td><td>Москва         </td><td style=\"text-align: right;\">              2561</td><td style=\"text-align: right;\">             12615882</td></tr>\n",
       "<tr><td style=\"text-align: right;\"> 1</td><td>Санкт-Петербург</td><td style=\"text-align: right;\">              1439</td><td style=\"text-align: right;\">              5383890</td></tr>\n",
       "<tr><td style=\"text-align: right;\"> 2</td><td>Ярославль      </td><td style=\"text-align: right;\">               205</td><td style=\"text-align: right;\">               609828</td></tr>\n",
       "<tr><td style=\"text-align: right;\"> 3</td><td>Хабаровск      </td><td style=\"text-align: right;\">               383</td><td style=\"text-align: right;\">              1321473</td></tr>\n",
       "</tbody>\n",
       "</table>"
      ],
      "text/plain": [
       "<IPython.core.display.HTML object>"
      ]
     },
     "metadata": {},
     "output_type": "display_data"
    }
   ],
   "source": [
    "display(HTML(tabulate(tabledata, headers=[\"Город\",\"Площадь (кв. км)\", \"Население (человек)\"], tablefmt='html', showindex=\"always\")))"
   ]
  },
  {
   "cell_type": "code",
   "execution_count": 8,
   "metadata": {
    "pycharm": {
     "name": "#%%\n"
    }
   },
   "outputs": [
    {
     "data": {
      "text/html": [
       "<img src=\"https://habrastorage.org/webt/9m/2c/zd/9m2czdt-uv7oe6v-nws3frtw7-a.jpeg\" width=\"200\"/>"
      ],
      "text/plain": [
       "<IPython.core.display.Image object>"
      ]
     },
     "metadata": {},
     "output_type": "display_data"
    }
   ],
   "source": [
    "from IPython.display import Image # Библиотека для отображения картинок\n",
    "\n",
    "display(Image(url='https://habrastorage.org/webt/9m/2c/zd/9m2czdt-uv7oe6v-nws3frtw7-a.jpeg',\n",
    "              width = 200) # Задаем ширину картинки\n",
    "       )\n",
    "# display(Image(filename='Python_royal_35.JPG', width = 200)) # Локальный файл"
   ]
  },
  {
   "cell_type": "code",
   "execution_count": 10,
   "metadata": {
    "pycharm": {
     "name": "#%%\n"
    }
   },
   "outputs": [
    {
     "data": {
      "text/html": [
       "<font color='green'>Мой зеленый текст</font>"
      ],
      "text/plain": [
       "<IPython.core.display.HTML object>"
      ]
     },
     "metadata": {},
     "output_type": "display_data"
    }
   ],
   "source": [
    "from IPython.display import display, HTML\n",
    "display(HTML(\"<font color='green'>Мой зеленый текст</font>\"))"
   ]
  },
  {
   "cell_type": "code",
   "execution_count": 12,
   "metadata": {
    "pycharm": {
     "name": "#%%\n"
    }
   },
   "outputs": [
    {
     "name": "stdout",
     "output_type": "stream",
     "text": [
      "\u001B[31mКрасный текст (без атрибутов)\u001B[0m\n",
      "\u001B[4m\u001B[31mКрасный текст (подчеркивание)\u001B[0m\n",
      "\u001B[41m\u001B[32mЗеленый текст на красном фоне (без атрибутов)\u001B[0m\n",
      "\u001B[1m\u001B[41m\u001B[32mЗеленый текст на красном фоне (bold)\u001B[0m\n"
     ]
    }
   ],
   "source": [
    "from termcolor import colored # Для установки запустите из командной строки pip install termcolor\n",
    "print(colored(\"Красный текст (без атрибутов)\", \"red\"))\n",
    "print(colored(\"Красный текст (подчеркивание)\", \"red\",  attrs=[\"underline\"]))\n",
    "print(colored(\"Зеленый текст на красном фоне (без атрибутов)\", \"green\", \"on_red\" ))\n",
    "print(colored(\"Зеленый текст на красном фоне (bold)\", \"green\", \"on_red\", attrs=[\"bold\"]))"
   ]
  },
  {
   "cell_type": "raw",
   "metadata": {},
   "source": [
    "pip install ipywidgets\n",
    "jupyter nbextension enable --py widgetsnbextension"
   ]
  },
  {
   "cell_type": "code",
   "execution_count": 1,
   "metadata": {},
   "outputs": [
    {
     "data": {
      "application/vnd.jupyter.widget-view+json": {
       "model_id": "299784e5c13a436a8ff930677c8d0879",
       "version_major": 2,
       "version_minor": 0
      },
      "text/plain": [
       "IntProgress(value=0)"
      ]
     },
     "metadata": {},
     "output_type": "display_data"
    },
    {
     "name": "stdout",
     "output_type": "stream",
     "text": [
      "Процесс завершен\n"
     ]
    }
   ],
   "source": [
    "from ipywidgets import IntProgress\n",
    "from IPython.display import display\n",
    "import time\n",
    "\n",
    "prgBar = IntProgress(min = 0, max = 100) # Создаем прогрессбар\n",
    "display(prgBar) # Выводим прогрессбар на экран\n",
    "\n",
    "while prgBar.value < prgBar.max:   # Пока положение не дошло до максимума - продолжаем цикл\n",
    "    prgBar.value = prgBar.value + 1 # Двигаем \"полоску\"\n",
    "    time.sleep(0.1)\n",
    "    \n",
    "print('Процесс завершен')"
   ]
  },
  {
   "cell_type": "code",
   "execution_count": 3,
   "metadata": {},
   "outputs": [
    {
     "data": {
      "application/vnd.jupyter.widget-view+json": {
       "model_id": "6122cd139d81489783728ce2cafd20d8",
       "version_major": 2,
       "version_minor": 0
      },
      "text/plain": [
       "Button(button_style='success', description='Нажми меня!', style=ButtonStyle())"
      ]
     },
     "metadata": {},
     "output_type": "display_data"
    },
    {
     "name": "stdout",
     "output_type": "stream",
     "text": [
      "Клик\n",
      "Клик\n",
      "Клик\n"
     ]
    }
   ],
   "source": [
    "from IPython.display import display\n",
    "from ipywidgets import Button \n",
    "\n",
    "# Создаем кнопку с нужными параметрами\n",
    "button1 = Button(description=\"Нажми меня!\", \n",
    "                        button_style='success' # 'success', 'info', 'warning', 'danger', ''\n",
    "                        )\n",
    "\n",
    "def on_button_clicked(b): # Описываем обработчик события\n",
    "    print(\"Клик\")\n",
    "\n",
    "button1.on_click(on_button_clicked) # Назначаем этот обработчик на событие \"on_click\"\n",
    "\n",
    "display(button1) # Отображаем кнопку"
   ]
  },
  {
   "cell_type": "code",
   "execution_count": 4,
   "metadata": {},
   "outputs": [
    {
     "data": {
      "application/vnd.jupyter.widget-view+json": {
       "model_id": "79c49ac04373453ea83c59f340d225a7",
       "version_major": 2,
       "version_minor": 0
      },
      "text/plain": [
       "Button(button_style='success', description='Кнопка с заданными размерами', layout=Layout(height='80px', width=…"
      ]
     },
     "metadata": {},
     "output_type": "display_data"
    }
   ],
   "source": [
    "from IPython.display import display\n",
    "from ipywidgets import Button, Layout\n",
    "\n",
    "button2 = Button(description='Кнопка с заданными размерами', button_style='success',\n",
    "           layout=Layout(width='50%', height='80px'))\n",
    "display(button2)"
   ]
  },
  {
   "cell_type": "code",
   "execution_count": 5,
   "metadata": {},
   "outputs": [
    {
     "data": {
      "application/vnd.jupyter.widget-view+json": {
       "model_id": "2489c01db7d342429b93d0758444a7e2",
       "version_major": 2,
       "version_minor": 0
      },
      "text/plain": [
       "FloatSlider(value=7.5, continuous_update=False, description='Параметр:', max=10.0)"
      ]
     },
     "metadata": {},
     "output_type": "display_data"
    },
    {
     "name": "stdout",
     "output_type": "stream",
     "text": [
      "7.5 -> 4.6\n",
      "4.6 -> 7.8\n",
      "7.8 -> 2.1\n"
     ]
    }
   ],
   "source": [
    "from IPython.display import display\n",
    "from ipywidgets import FloatSlider\n",
    "\n",
    "fSlider = FloatSlider(\n",
    "    value=7.5, # Первоначальное значение\n",
    "    min=0,     # Минимум\n",
    "    max=10.0,  # Максимум\n",
    "    step=0.1,  # Шаг изменения\n",
    "    description='Параметр:',\n",
    "    continuous_update=False,  # True - событие observe возникает для каждого шага при изменении значения\n",
    "    orientation='horizontal'  # Горизонтальное или вертикальное расположение\n",
    ")\n",
    "\n",
    "def on_value_change(b):\n",
    "    print(b['old'], '->', b['new'])\n",
    "\n",
    "fSlider.observe(on_value_change, names='value')\n",
    "display(fSlider)"
   ]
  },
  {
   "cell_type": "code",
   "execution_count": 6,
   "metadata": {},
   "outputs": [
    {
     "data": {
      "text/plain": [
       "2.1"
      ]
     },
     "execution_count": 6,
     "metadata": {},
     "output_type": "execute_result"
    }
   ],
   "source": [
    "fSlider.value"
   ]
  },
  {
   "cell_type": "code",
   "execution_count": 7,
   "metadata": {},
   "outputs": [
    {
     "data": {
      "application/vnd.jupyter.widget-view+json": {
       "model_id": "572079dc887547a184d4834cfedd5222",
       "version_major": 2,
       "version_minor": 0
      },
      "text/plain": [
       "DatePicker(value=None, description='Дата:')"
      ]
     },
     "metadata": {},
     "output_type": "display_data"
    },
    {
     "name": "stdout",
     "output_type": "stream",
     "text": [
      "None -> 2022-04-15\n"
     ]
    }
   ],
   "source": [
    "from IPython.display import display\n",
    "from ipywidgets import DatePicker\n",
    "\n",
    "dPicker = DatePicker(\n",
    "    description='Дата:'\n",
    ")\n",
    "\n",
    "def on_button_clicked(b):\n",
    "    print(b['old'], '->', b['new'])\n",
    "\n",
    "dPicker.observe(on_button_clicked, names='value')\n",
    "display(dPicker)"
   ]
  },
  {
   "cell_type": "code",
   "execution_count": 8,
   "metadata": {},
   "outputs": [
    {
     "data": {
      "application/vnd.jupyter.widget-view+json": {
       "model_id": "36fcb6c21ae54fe0a5a79af6c18ae705",
       "version_major": 2,
       "version_minor": 0
      },
      "text/plain": [
       "RadioButtons(description='Цвет:', index=1, options=('Красный', 'Желтый', 'Зеленый'), value='Желтый')"
      ]
     },
     "metadata": {},
     "output_type": "display_data"
    },
    {
     "name": "stdout",
     "output_type": "stream",
     "text": [
      "Желтый -> Красный\n",
      "Красный -> Зеленый\n",
      "Зеленый -> Желтый\n"
     ]
    }
   ],
   "source": [
    "from IPython.display import display\n",
    "from ipywidgets import RadioButtons\n",
    "\n",
    "rButtons1 = RadioButtons(\n",
    "    options=['Красный', 'Желтый', 'Зеленый'],\n",
    "    value='Желтый', # Выбор по умолчанию\n",
    "    description='Цвет:'\n",
    ")\n",
    "\n",
    "\n",
    "def on_button_clicked(b):\n",
    "    print(b['old'], '->', b['new'])\n",
    "\n",
    "rButtons1.observe(on_button_clicked, names='value')\n",
    "display(rButtons1)"
   ]
  },
  {
   "cell_type": "code",
   "execution_count": 9,
   "metadata": {},
   "outputs": [
    {
     "data": {
      "text/plain": [
       "'Желтый'"
      ]
     },
     "execution_count": 9,
     "metadata": {},
     "output_type": "execute_result"
    }
   ],
   "source": [
    "rButtons1.value"
   ]
  },
  {
   "cell_type": "code",
   "execution_count": 10,
   "metadata": {},
   "outputs": [
    {
     "data": {
      "application/vnd.jupyter.widget-view+json": {
       "model_id": "b813bcbd68014684b9286b2482ee9b05",
       "version_major": 2,
       "version_minor": 0
      },
      "text/plain": [
       "RadioButtons(description='Цвет:', index=1, options=(('Красный', 1), ('Желтый', 2), ('Зеленый', 3)), value=2)"
      ]
     },
     "metadata": {},
     "output_type": "display_data"
    },
    {
     "name": "stdout",
     "output_type": "stream",
     "text": [
      "2 -> 3\n",
      "3 -> 1\n",
      "1 -> 2\n"
     ]
    }
   ],
   "source": [
    "from IPython.display import display\n",
    "from ipywidgets import RadioButtons\n",
    "\n",
    "rButtons2 = RadioButtons(\n",
    "    options=[('Красный', 1), ('Желтый', 2), ('Зеленый', 3)],\n",
    "    value=2, # Выбор по умолчанию\n",
    "    description='Цвет:' \n",
    ")\n",
    "\n",
    "def on_button_clicked(b):\n",
    "    print(b['old'], '->', b['new'])\n",
    "\n",
    "rButtons2.observe(on_button_clicked, names='value')\n",
    "display(rButtons2)"
   ]
  },
  {
   "cell_type": "code",
   "execution_count": 11,
   "metadata": {},
   "outputs": [
    {
     "data": {
      "application/vnd.jupyter.widget-view+json": {
       "model_id": "a1f36179c8cf46be91df067609148dcb",
       "version_major": 2,
       "version_minor": 0
      },
      "text/plain": [
       "Dropdown(description='Цвет:', index=1, options=(('Красный', 1), ('Желтый', 2), ('Зеленый', 3)), value=2)"
      ]
     },
     "metadata": {},
     "output_type": "display_data"
    },
    {
     "name": "stdout",
     "output_type": "stream",
     "text": [
      "2 -> 1\n"
     ]
    }
   ],
   "source": [
    "from IPython.display import display\n",
    "from ipywidgets import Dropdown\n",
    "\n",
    "dropdown1 = Dropdown(\n",
    "    options=[('Красный', 1), ('Желтый', 2), ('Зеленый', 3)],\n",
    "    value=2, # Выбор по умолчанию\n",
    "    description='Цвет:' \n",
    ")\n",
    "\n",
    "def on_button_clicked(b):\n",
    "    print(b['old'], '->', b['new'])\n",
    "\n",
    "dropdown1.observe(on_button_clicked, names='value')\n",
    "display(dropdown1)"
   ]
  },
  {
   "cell_type": "code",
   "execution_count": 12,
   "metadata": {},
   "outputs": [
    {
     "data": {
      "application/vnd.jupyter.widget-view+json": {
       "model_id": "39e4242378344b42baa25fae64bac2f6",
       "version_major": 2,
       "version_minor": 0
      },
      "text/plain": [
       "Checkbox(value=False, description='Согласен')"
      ]
     },
     "metadata": {},
     "output_type": "display_data"
    },
    {
     "name": "stdout",
     "output_type": "stream",
     "text": [
      "True\n",
      "False\n"
     ]
    }
   ],
   "source": [
    "from IPython.display import display\n",
    "from ipywidgets import Checkbox\n",
    "\n",
    "cb1 = Checkbox(\n",
    "    value=False,\n",
    "    description='Согласен' \n",
    ")\n",
    "\n",
    "def on_button_clicked(b):\n",
    "    print(cb1.value)\n",
    "\n",
    "cb1.observe(on_button_clicked, names='value')\n",
    "display(cb1)"
   ]
  },
  {
   "cell_type": "code",
   "execution_count": 13,
   "metadata": {},
   "outputs": [
    {
     "data": {
      "application/vnd.jupyter.widget-view+json": {
       "model_id": "adfc3618e46540a88e92cb8a414a5bc7",
       "version_major": 2,
       "version_minor": 0
      },
      "text/plain": [
       "ToggleButton(value=False, button_style='success', description='Не нажата', icon='check', tooltip='Принять усло…"
      ]
     },
     "metadata": {},
     "output_type": "display_data"
    },
    {
     "data": {
      "application/vnd.jupyter.widget-view+json": {
       "model_id": "17b428dfe35045a2894b8eda5ce0a93d",
       "version_major": 2,
       "version_minor": 0
      },
      "text/plain": [
       "ToggleButton(value=True, button_style='success', description='А эта нажата', icon='check', tooltip='Принять ус…"
      ]
     },
     "metadata": {},
     "output_type": "display_data"
    }
   ],
   "source": [
    "from IPython.display import display\n",
    "from ipywidgets import ToggleButton\n",
    "\n",
    "tb1 = ToggleButton(\n",
    "    value=False,\n",
    "    description='Не нажата',\n",
    "    disabled=False,\n",
    "    button_style='success', # 'success', 'info', 'warning', 'danger' or ''\n",
    "    tooltip='Принять условия',\n",
    "    icon='check'\n",
    ")\n",
    "tb2 = ToggleButton(\n",
    "    value=True,\n",
    "    description='А эта нажата',\n",
    "    disabled=False,\n",
    "    button_style='success', # 'success', 'info', 'warning', 'danger' or ''\n",
    "    tooltip='Принять условия',\n",
    "    icon='check'\n",
    ")\n",
    "\n",
    "display(tb1, tb2)"
   ]
  },
  {
   "cell_type": "code",
   "execution_count": 14,
   "metadata": {},
   "outputs": [
    {
     "data": {
      "application/vnd.jupyter.widget-view+json": {
       "model_id": "645de3787826494984312d778d89280b",
       "version_major": 2,
       "version_minor": 0
      },
      "text/plain": [
       "Textarea(value='Привет, Habr!', description='Текст:', layout=Layout(height='100px', width='600px'), placeholde…"
      ]
     },
     "metadata": {},
     "output_type": "display_data"
    }
   ],
   "source": [
    "from IPython.display import display\n",
    "from ipywidgets import Textarea, Layout\n",
    "\n",
    "Textarea1 = Textarea(\n",
    "    value='Привет, Habr!',\n",
    "    placeholder='Введите текст',\n",
    "    description='Текст:',\n",
    "    layout=Layout(width='600px', height='100px')\n",
    ")\n",
    "\n",
    "display(Textarea1)"
   ]
  },
  {
   "cell_type": "code",
   "execution_count": 15,
   "metadata": {},
   "outputs": [
    {
     "data": {
      "application/vnd.jupyter.widget-view+json": {
       "model_id": "c3b65a37d2fb4945977ade3a68e94eca",
       "version_major": 2,
       "version_minor": 0
      },
      "text/plain": [
       "Accordion(children=(IntSlider(value=42), Text(value='Сорок два')), _titles={'0': 'Раздел 1', '1': 'Раздел 2'})"
      ]
     },
     "metadata": {},
     "output_type": "display_data"
    }
   ],
   "source": [
    "from IPython.display import display\n",
    "from ipywidgets import Accordion, IntSlider, Text\n",
    "\n",
    "accordion = Accordion(children=[IntSlider(value=42), Text(value='Сорок два')])\n",
    "accordion.set_title(0, 'Раздел 1')\n",
    "accordion.set_title(1, 'Раздел 2')\n",
    "display(accordion)"
   ]
  },
  {
   "cell_type": "code",
   "execution_count": 22,
   "metadata": {},
   "outputs": [
    {
     "data": {
      "application/vnd.jupyter.widget-view+json": {
       "model_id": "a4fef184eec94e6fa6788938190468fc",
       "version_major": 2,
       "version_minor": 0
      },
      "text/plain": [
       "Tab(children=(IntSlider(value=42), Text(value='Сорок два')), _titles={'0': 'Раздел 1', '1': 'Раздел 2'})"
      ]
     },
     "metadata": {},
     "output_type": "display_data"
    }
   ],
   "source": [
    "from IPython.display import display\n",
    "from ipywidgets import Tab, IntSlider, Text\n",
    "\n",
    "tab = Tab()\n",
    "tab.children = [IntSlider(value=42), Text(value='Сорок два')]\n",
    "tab.set_title(0, 'Раздел 1')\n",
    "tab.set_title(1, 'Раздел 2')\n",
    "\n",
    "display(tab)"
   ]
  }
 ],
 "metadata": {
  "kernelspec": {
   "display_name": "Python 3 (ipykernel)",
   "language": "python",
   "name": "python3"
  },
  "language_info": {
   "codemirror_mode": {
    "name": "ipython",
    "version": 3
   },
   "file_extension": ".py",
   "mimetype": "text/x-python",
   "name": "python",
   "nbconvert_exporter": "python",
   "pygments_lexer": "ipython3",
   "version": "3.10.2"
  }
 },
 "nbformat": 4,
 "nbformat_minor": 1
}